{
 "cells": [
  {
   "cell_type": "code",
   "execution_count": 8,
   "metadata": {},
   "outputs": [],
   "source": [
    "import sys\n",
    "sys.path.append(\"D:\\\\devgit\\\\ailabx\")\n",
    "from engine.datafeed import *"
   ]
  },
  {
   "cell_type": "code",
   "execution_count": 10,
   "metadata": {},
   "outputs": [
    {
     "name": "stdout",
     "output_type": "stream",
     "text": [
      "                          _id        amount   close    code  factor    high  \\\n",
      "date                                                                          \n",
      "2016-12-28  600519_2016-12-28  5.816490e+08  323.72  600519   6.683  328.00   \n",
      "2016-12-29  600519_2016-12-29  6.909861e+08  327.31  600519   6.683  327.87   \n",
      "2016-12-30  600519_2016-12-30  1.152982e+09  334.15  600519   6.683  335.29   \n",
      "\n",
      "               low    open     volume    EPS     EndDate   NAPS         pe  \\\n",
      "date                                                                         \n",
      "2016-12-28  323.33  326.99  1787811.0  13.31  2016-12-31  58.03  24.321563   \n",
      "2016-12-29  323.00  324.00  2122512.0  13.31  2016-12-31  58.03  24.591285   \n",
      "2016-12-30  326.61  326.61  3468767.0  13.31  2016-12-31  58.03  25.105184   \n",
      "\n",
      "                  pb  \n",
      "date                  \n",
      "2016-12-28  5.578494  \n",
      "2016-12-29  5.640358  \n",
      "2016-12-30  5.758229  \n"
     ]
    }
   ],
   "source": [
    "start = datetime(2016,1,1)\n",
    "end = datetime(2017,1,1)\n",
    "df = D._load_data('600519',start,end)\n",
    "print(df.tail(3))"
   ]
  },
  {
   "cell_type": "code",
   "execution_count": null,
   "metadata": {},
   "outputs": [],
   "source": []
  }
 ],
 "metadata": {
  "kernelspec": {
   "display_name": "Python 3",
   "language": "python",
   "name": "python3"
  },
  "language_info": {
   "codemirror_mode": {
    "name": "ipython",
    "version": 3
   },
   "file_extension": ".py",
   "mimetype": "text/x-python",
   "name": "python",
   "nbconvert_exporter": "python",
   "pygments_lexer": "ipython3",
   "version": "3.6.4"
  }
 },
 "nbformat": 4,
 "nbformat_minor": 2
}
